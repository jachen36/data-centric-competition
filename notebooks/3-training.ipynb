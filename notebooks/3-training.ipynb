{
 "cells": [
  {
   "cell_type": "code",
   "execution_count": null,
   "id": "d70a5b82-e78e-4909-a2f5-c0cb808609df",
   "metadata": {},
   "outputs": [],
   "source": [
    "%load_ext nb_black\n",
    "\n",
    "%load_ext autoreload\n",
    "%autoreload 2"
   ]
  },
  {
   "cell_type": "code",
   "execution_count": null,
   "id": "808ea2d2-270f-4cf0-915c-48492e6081cd",
   "metadata": {},
   "outputs": [],
   "source": [
    "%config Completer.use_jedi = False"
   ]
  },
  {
   "cell_type": "code",
   "execution_count": null,
   "id": "3f4fd4a8-4477-4464-8d73-d51340d44f25",
   "metadata": {},
   "outputs": [],
   "source": [
    "import pandas as pd\n",
    "from local_lib import utils, train\n",
    "from pathlib import Path\n",
    "import random\n",
    "import shutil"
   ]
  },
  {
   "cell_type": "code",
   "execution_count": null,
   "id": "b1dde7a1-cbb6-450e-88e6-48b05b020b2c",
   "metadata": {},
   "outputs": [],
   "source": [
    "labels_pt = \"../data/processed/labels_v0.1.0.csv\"\n",
    "source_image_dir = Path('../data/processed/labeling/images')\n",
    "train_image_dir = Path('../data/processed/tmp_training')\n",
    "shutil.rmtree(train_image_dir)\n",
    "# TODO: figure out why 8 had to be substracted\n",
    "max_images = 10_000 - 8"
   ]
  },
  {
   "cell_type": "code",
   "execution_count": null,
   "id": "eb53e0b6-5a70-48a1-89fb-99424a720100",
   "metadata": {},
   "outputs": [],
   "source": [
    "labels = pd.read_csv(labels_pt)\n",
    "remainder = max_images - len(labels)\n",
    "\n",
    "# labels = labels.query(\"org_source != 'label_book'\")"
   ]
  },
  {
   "cell_type": "code",
   "execution_count": null,
   "id": "219c8600-18f7-4b6c-a57e-96997fcdf813",
   "metadata": {},
   "outputs": [],
   "source": [
    "_ = utils.copy_group_to_dir(df=labels, \n",
    "                        source_dir=source_image_dir, \n",
    "                        dest_dir=train_image_dir, \n",
    "                        group= [\"org_source\", \"symbol\"]\n",
    "                       )\n",
    "assert len(_) == 0"
   ]
  },
  {
   "cell_type": "code",
   "execution_count": null,
   "id": "ae7bfaae-2395-4ef8-baa0-7327d91afd0c",
   "metadata": {},
   "outputs": [],
   "source": [
    "labels_filtered = labels.query(\"suggestion != 'remove' and org_source != 'val'\")"
   ]
  },
  {
   "cell_type": "code",
   "execution_count": null,
   "id": "c38a18be-8728-45b7-9585-970beca629dd",
   "metadata": {},
   "outputs": [],
   "source": [
    "images_2_aug = labels_filtered.query(\"confusing == 'none' and org_source != 'val'\").copy()"
   ]
  },
  {
   "cell_type": "code",
   "execution_count": null,
   "id": "de815457-bd12-4308-8a51-d9be2dbd5f5c",
   "metadata": {},
   "outputs": [],
   "source": [
    "images_2_aug[\"aug_amount\"] = 0\n",
    "\n",
    "images_per_group = remainder // 10\n",
    "\n",
    "symbol_counts = images_2_aug.symbol.value_counts()\n",
    "\n",
    "for row in symbol_counts.to_frame().reset_index().itertuples():\n",
    "    \n",
    "    symbol_sample_min = int(images_per_group/row.symbol)\n",
    "    sample_amount = [symbol_sample_min] * row.symbol\n",
    "    sample_remainder = images_per_group - sum(sample_amount)\n",
    "    if sample_remainder > 0:\n",
    "        sample_amount[:sample_remainder] = [symbol_sample_min + 1] * sample_remainder\n",
    "    random.shuffle(sample_amount)\n",
    "    images_2_aug.loc[images_2_aug.symbol == row.index, \"aug_amount\"] = sample_amount\n",
    "\n",
    "assert images_2_aug.aug_amount.sum() <= remainder"
   ]
  },
  {
   "cell_type": "code",
   "execution_count": null,
   "id": "1f5a5470-4fac-4939-9e19-154213b43d6a",
   "metadata": {},
   "outputs": [],
   "source": [
    "import imgaug.augmenters as iaa\n",
    "seq = iaa.Sequential([\n",
    "    iaa.Crop(px=(1, 16), keep_size=True),\n",
    "    iaa.Fliplr(0.5),\n",
    "    iaa.GaussianBlur(sigma=(0, 3.0))\n",
    "])"
   ]
  },
  {
   "cell_type": "code",
   "execution_count": null,
   "id": "a925a5d6-1fac-4326-9fea-ff711407b56f",
   "metadata": {},
   "outputs": [],
   "source": [
    "utils.apply_aug(images_2_aug, source_image_dir, train_image_dir, seq, [\"org_source\", \"symbol\"])"
   ]
  },
  {
   "cell_type": "code",
   "execution_count": null,
   "id": "0f10debf-d24f-4de2-ac1b-b4c4f328974c",
   "metadata": {},
   "outputs": [],
   "source": [
    "train.train_model(train_image_dir, \"../data/raw/label_book\", short_run=True)"
   ]
  },
  {
   "cell_type": "code",
   "execution_count": null,
   "id": "953d3759-48bd-4b2a-9256-61dc9767501f",
   "metadata": {},
   "outputs": [],
   "source": []
  },
  {
   "cell_type": "code",
   "execution_count": null,
   "id": "893c6dc8-f85a-4b5c-9aa3-0a52da0d4f25",
   "metadata": {},
   "outputs": [],
   "source": []
  },
  {
   "cell_type": "code",
   "execution_count": null,
   "id": "cbcfc3e4-50b2-427e-bdba-27b7ee8c86b7",
   "metadata": {},
   "outputs": [],
   "source": []
  },
  {
   "cell_type": "code",
   "execution_count": null,
   "id": "d00af3a5-199c-4e84-904b-9219370e8c11",
   "metadata": {},
   "outputs": [],
   "source": []
  },
  {
   "cell_type": "code",
   "execution_count": null,
   "id": "8f3c29ab-9c1b-4a38-bb47-6e704f0dc345",
   "metadata": {},
   "outputs": [],
   "source": []
  },
  {
   "cell_type": "code",
   "execution_count": null,
   "id": "95d9f33a-7529-42cd-93b9-a6afc1a427db",
   "metadata": {},
   "outputs": [],
   "source": []
  },
  {
   "cell_type": "code",
   "execution_count": null,
   "id": "67f913a3-0cdd-4b33-9760-61ad0f7e552d",
   "metadata": {},
   "outputs": [],
   "source": []
  },
  {
   "cell_type": "code",
   "execution_count": null,
   "id": "4e617f44-e474-4243-99c5-dae411d51c4a",
   "metadata": {},
   "outputs": [],
   "source": []
  }
 ],
 "metadata": {
  "kernelspec": {
   "display_name": "Python 3",
   "language": "python",
   "name": "python3"
  },
  "language_info": {
   "codemirror_mode": {
    "name": "ipython",
    "version": 3
   },
   "file_extension": ".py",
   "mimetype": "text/x-python",
   "name": "python",
   "nbconvert_exporter": "python",
   "pygments_lexer": "ipython3",
   "version": "3.8.10"
  }
 },
 "nbformat": 4,
 "nbformat_minor": 5
}
