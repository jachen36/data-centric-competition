{
 "cells": [
  {
   "cell_type": "code",
   "execution_count": null,
   "id": "582fa1d5-af60-4cff-a798-38c219ee48af",
   "metadata": {},
   "outputs": [],
   "source": [
    "%load_ext nb_black\n",
    "\n",
    "%load_ext autoreload\n",
    "%autoreload 2"
   ]
  },
  {
   "cell_type": "code",
   "execution_count": null,
   "id": "ba4ba59b-773a-44cc-ae0f-0e8027ab5a70",
   "metadata": {},
   "outputs": [],
   "source": [
    "# fix autocomplete that doesn't work\n",
    "%config Completer.use_jedi = False"
   ]
  },
  {
   "cell_type": "code",
   "execution_count": null,
   "id": "9d9904c9-31d2-4c63-b6d9-0a9c87d9fec9",
   "metadata": {},
   "outputs": [],
   "source": [
    "import json\n",
    "from IPython.display import JSON\n",
    "from pathlib import Path\n",
    "from local_lib import utils\n",
    "import pandas as pd\n",
    "\n",
    "labeling_dir = Path(\"../data/processed/labeling\")\n",
    "annot_path = labeling_dir/\"annotations.json\"\n",
    "work_tmp_dir = labeling_dir/\"work_tmp\"\n",
    "\n",
    "with open(labeling_dir/\"classes.json\") as f:\n",
    "    class_mapping = json.load(f)\n",
    "\n",
    "with open(annot_path) as f:\n",
    "    annot = json.load(f)"
   ]
  },
  {
   "cell_type": "code",
   "execution_count": null,
   "id": "57ab7575-7638-4cda-a6b7-83b9dac907cb",
   "metadata": {},
   "outputs": [],
   "source": [
    "org_labels = utils.get_original_labels(\"../data/raw\").query(\"org_source != 'label_book'\").copy()\n",
    "\n",
    "relabeled = utils.convert_annotation_to_dataframe(annot, class_mapping).fillna(\"none\")\n",
    "\n",
    "output = pd.merge(org_labels, relabeled, how=\"outer\", on=\"image\")\n",
    "\n",
    "output.to_csv(\"../data/processed/labels_v0.1.0.csv\", index=False)"
   ]
  }
 ],
 "metadata": {
  "kernelspec": {
   "display_name": "Python 3",
   "language": "python",
   "name": "python3"
  },
  "language_info": {
   "codemirror_mode": {
    "name": "ipython",
    "version": 3
   },
   "file_extension": ".py",
   "mimetype": "text/x-python",
   "name": "python",
   "nbconvert_exporter": "python",
   "pygments_lexer": "ipython3",
   "version": "3.8.10"
  }
 },
 "nbformat": 4,
 "nbformat_minor": 5
}
