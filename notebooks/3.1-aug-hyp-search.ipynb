{
 "cells": [
  {
   "cell_type": "markdown",
   "id": "661a894c-13bd-49f7-ae95-76bc00378172",
   "metadata": {},
   "source": [
    "# Augmentation Hyperparameter Search"
   ]
  },
  {
   "cell_type": "code",
   "execution_count": null,
   "id": "d46bc2ce-b3c2-40e8-ae6e-8eb0d68be878",
   "metadata": {},
   "outputs": [],
   "source": [
    "%load_ext lab_black\n",
    "\n",
    "%load_ext autoreload\n",
    "%autoreload 2"
   ]
  },
  {
   "cell_type": "code",
   "execution_count": null,
   "id": "b49035be-4c05-426b-ab72-dba39b489650",
   "metadata": {},
   "outputs": [],
   "source": [
    "# Don't know why my local jupyter doesn't autocomplete\n",
    "%config Completer.use_jedi = False"
   ]
  },
  {
   "cell_type": "code",
   "execution_count": null,
   "id": "42f0873d-1b78-4052-acba-3a2b2fbb4fae",
   "metadata": {},
   "outputs": [],
   "source": [
    "import pandas as pd\n",
    "from local_lib import utils, train\n",
    "from pathlib import Path\n",
    "import random\n",
    "import shutil\n",
    "import optuna\n",
    "import imgaug.augmenters as iaa"
   ]
  },
  {
   "cell_type": "code",
   "execution_count": null,
   "id": "741a5415-cdf6-4d6c-ba9b-21ab359c792e",
   "metadata": {},
   "outputs": [],
   "source": [
    "labels_pt = \"../data/processed/labels_v0.1.0.csv\"\n",
    "source_image_dir = Path(\"../data/processed/labeling/images\")\n",
    "train_image_dir = Path(\"../data/processed/tmp_training\")\n",
    "# TODO: figure out why 8 had to be substracted\n",
    "max_images = 10_000 - 8"
   ]
  },
  {
   "cell_type": "code",
   "execution_count": null,
   "id": "f10e112e-db69-458f-ab1d-a7687e5e4b18",
   "metadata": {},
   "outputs": [],
   "source": [
    "labels = pd.read_csv(labels_pt)\n",
    "remainder = max_images - len(labels)\n",
    "\n",
    "labels_filtered = labels.query(\"suggestion != 'remove' and org_source != 'val'\")\n",
    "images_2_aug = labels_filtered.query(\n",
    "    \"confusing == 'none' and org_source != 'val'\"\n",
    ").copy()"
   ]
  },
  {
   "cell_type": "code",
   "execution_count": null,
   "id": "24b4069d-2be9-4b08-b17a-c8c7522a2c57",
   "metadata": {},
   "outputs": [],
   "source": [
    "images_2_aug[\"aug_amount\"] = 0\n",
    "images_per_group = remainder // 10\n",
    "symbol_counts = images_2_aug.symbol.value_counts()\n",
    "\n",
    "for row in symbol_counts.to_frame().reset_index().itertuples():\n",
    "\n",
    "    symbol_sample_min = int(images_per_group / row.symbol)\n",
    "    sample_amount = [symbol_sample_min] * row.symbol\n",
    "    sample_remainder = images_per_group - sum(sample_amount)\n",
    "    if sample_remainder > 0:\n",
    "        sample_amount[:sample_remainder] = [symbol_sample_min + 1] * sample_remainder\n",
    "    random.shuffle(sample_amount)\n",
    "    images_2_aug.loc[images_2_aug.symbol == row.index, \"aug_amount\"] = sample_amount\n",
    "\n",
    "assert images_2_aug.aug_amount.sum() <= remainder"
   ]
  },
  {
   "cell_type": "code",
   "execution_count": null,
   "id": "82d70ee1-d1e8-4183-93b2-793a7e80108b",
   "metadata": {},
   "outputs": [],
   "source": [
    "def objective(trial):\n",
    "\n",
    "    if train_image_dir.exists():\n",
    "        shutil.rmtree(train_image_dir)\n",
    "\n",
    "    _ = utils.copy_group_to_dir(\n",
    "        df=labels,\n",
    "        source_dir=source_image_dir,\n",
    "        dest_dir=train_image_dir,\n",
    "        group=[\"org_source\", \"symbol\"],\n",
    "    )\n",
    "    assert len(_) == 0, \"Unexpected missing images\"\n",
    "\n",
    "    # trying to see if optuna correctly filter this parameter out\n",
    "    fake = trial.suggest_float(name=\"fake_value\", low=0.01, high=0.5, step=0.01)\n",
    "\n",
    "    aug_seq = []\n",
    "    # set how frequent a set of augmentations will happen\n",
    "    common_aug = trial.suggest_float(name=\"common_aug\", low=0.2, high=0.3, step=0.02)\n",
    "    freq_aug = trial.suggest_float(name=\"freq_aug\", low=0.04, high=0.2, step=0.02)\n",
    "    rare_aug = trial.suggest_float(name=\"rare_aug\", low=0.01, high=0.05, step=0.01)\n",
    "\n",
    "    # common augmentations\n",
    "    if trial.suggest_categorical(name=\"aug_scale\", choices=[True, False]):\n",
    "        aug_seq.append(\n",
    "            iaa.Sometimes(p=common_aug, then_list=iaa.Affine(scale=(0.5, 1.5)))\n",
    "        )\n",
    "\n",
    "    if trial.suggest_categorical(name=\"aug_crop_pad\", choices=[True, False]):\n",
    "        aug_seq.append(\n",
    "            iaa.Sometimes(\n",
    "                p=common_aug,\n",
    "                then_list=iaa.CropAndPad(\n",
    "                    percent=(-0.25, 0.25),\n",
    "                    pad_mode=\"constant\",\n",
    "                    pad_cval=255,\n",
    "                ),\n",
    "            )\n",
    "        )\n",
    "\n",
    "    if trial.suggest_categorical(name=\"aug_resize\", choices=[True, False]):\n",
    "        aug_seq.append(\n",
    "            iaa.Sometimes(\n",
    "                p=common_aug,\n",
    "                then_list=iaa.Affine(\n",
    "                    translate_percent={\"x\": (-0.2, 0.2), \"y\": (-0.2, 0.2)}\n",
    "                ),\n",
    "            )\n",
    "        )\n",
    "\n",
    "    if trial.suggest_categorical(name=\"aug_rotate\", choices=[True, False]):\n",
    "        aug_seq.append(iaa.Sometimes(p=common_aug, then_list=iaa.Rotate((-25, 25))))\n",
    "\n",
    "    if trial.suggest_categorical(name=\"aug_coarsed_dropout\", choices=[True, False]):\n",
    "        aug_seq.append(\n",
    "            iaa.Sometimes(\n",
    "                p=common_aug,\n",
    "                then_list=iaa.CoarseDropout(p=(0.0, 0.05), size_percent=(0.02, 0.25)),\n",
    "            )\n",
    "        )\n",
    "\n",
    "    # I don't want to have combination of these because it might make the augmentation\n",
    "    # too complicated and unrealistic to the data we have\n",
    "    oneof = []\n",
    "    if trial.suggest_categorical(name=\"aug_shear\", choices=[True, False]):\n",
    "        oneof.append(iaa.Sometimes(p=freq_aug, then_list=iaa.Affine(shear=(-16, 16))))\n",
    "\n",
    "    if trial.suggest_categorical(name=\"aug_avg_blurk\", choices=[True, False]):\n",
    "        oneof.append(iaa.Sometimes(p=rare_aug, then_list=iaa.AverageBlur((2, 11))))\n",
    "\n",
    "    if oneof:\n",
    "        aug_seq.append(iaa.OneOf(oneof))\n",
    "\n",
    "    seq = iaa.Sequential(aug_seq, random_order=True)\n",
    "\n",
    "    utils.apply_aug(\n",
    "        images_2_aug, source_image_dir, train_image_dir, seq, [\"org_source\", \"symbol\"]\n",
    "    )\n",
    "\n",
    "    loss, acc = train.train_model(\n",
    "        train_image_dir, \"../data/raw/label_book\", epochs=25, verbose=0\n",
    "    )\n",
    "\n",
    "    return acc"
   ]
  },
  {
   "cell_type": "markdown",
   "id": "288073c1-305a-4a01-a9c1-2285eb0701a6",
   "metadata": {},
   "source": [
    "TODO: add images from website for documentations\n",
    "\n",
    "\n",
    "* dropout\n",
    "    * From observation, I don't see this that common and not that extreme. Therefore, selecting a lower percent of dropout. \n",
    "    * \n",
    "* coarsedropout\n",
    "* saltandpepper\n",
    "* AverageBlur\n",
    "    \n",
    "* meanshiftblur\n",
    "* rotate\n",
    "* geometric \n",
    "    * affine\n",
    "    * perspectivetransform\n",
    "* imgcorruptlike\n",
    "    * snow\n",
    "    * spatter\n",
    "* pad?\n",
    "* resize?"
   ]
  },
  {
   "cell_type": "code",
   "execution_count": null,
   "id": "e824e7e8-e668-49d5-b68e-2aa1fb92282a",
   "metadata": {},
   "outputs": [],
   "source": [
    "study_name = \"aug-08-17-21\" \n",
    "storage_name = \"sqlite:///{}.db\".format(study_name)\n",
    "study = optuna.create_study(\n",
    "    study_name=study_name,\n",
    "    storage=storage_name,\n",
    "    direction=\"maximize\",\n",
    "    \n",
    ")"
   ]
  },
  {
   "cell_type": "code",
   "execution_count": null,
   "id": "b441ac2c-a242-4cda-ad9c-3b1c16962857",
   "metadata": {},
   "outputs": [],
   "source": [
    "study.optimize(objective, n_trials=100, show_progress_bar=True)"
   ]
  },
  {
   "cell_type": "code",
   "execution_count": null,
   "id": "6c05e1bd-04a9-4359-bb17-c7eac8418cc1",
   "metadata": {},
   "outputs": [],
   "source": []
  },
  {
   "cell_type": "code",
   "execution_count": null,
   "id": "4bbd3e47-b8a6-41be-b5b4-0b2f854e0a72",
   "metadata": {},
   "outputs": [],
   "source": []
  },
  {
   "cell_type": "code",
   "execution_count": null,
   "id": "af27d271-9b74-4e09-a0ef-903b668922e5",
   "metadata": {},
   "outputs": [],
   "source": []
  },
  {
   "cell_type": "code",
   "execution_count": null,
   "id": "fd9c5f9e-ba28-4e74-b2a5-aeeb3bf0e74d",
   "metadata": {},
   "outputs": [],
   "source": []
  },
  {
   "cell_type": "code",
   "execution_count": null,
   "id": "0804d74d-49af-47be-bec4-f59d475c5efd",
   "metadata": {},
   "outputs": [],
   "source": []
  },
  {
   "cell_type": "code",
   "execution_count": null,
   "id": "c090ad0f-f190-4c41-bf2f-95d14c6227db",
   "metadata": {},
   "outputs": [],
   "source": []
  },
  {
   "cell_type": "code",
   "execution_count": null,
   "id": "f803d03c-d6d3-4ad1-ad17-68d369378ddb",
   "metadata": {},
   "outputs": [],
   "source": []
  },
  {
   "cell_type": "code",
   "execution_count": null,
   "id": "ac589730-aa83-4213-b48b-bceaca370047",
   "metadata": {},
   "outputs": [],
   "source": []
  },
  {
   "cell_type": "code",
   "execution_count": null,
   "id": "e85ef366-f4d4-4aa4-aebe-ee1f1154672e",
   "metadata": {},
   "outputs": [],
   "source": []
  },
  {
   "cell_type": "code",
   "execution_count": null,
   "id": "bd1d72d6-039b-4e70-889b-c4cb3759cd63",
   "metadata": {},
   "outputs": [],
   "source": []
  },
  {
   "cell_type": "code",
   "execution_count": null,
   "id": "a5441845-01c1-4519-8851-802cdae24f9d",
   "metadata": {},
   "outputs": [],
   "source": []
  }
 ],
 "metadata": {
  "kernelspec": {
   "display_name": "Python 3",
   "language": "python",
   "name": "python3"
  },
  "language_info": {
   "codemirror_mode": {
    "name": "ipython",
    "version": 3
   },
   "file_extension": ".py",
   "mimetype": "text/x-python",
   "name": "python",
   "nbconvert_exporter": "python",
   "pygments_lexer": "ipython3",
   "version": "3.8.10"
  }
 },
 "nbformat": 4,
 "nbformat_minor": 5
}
